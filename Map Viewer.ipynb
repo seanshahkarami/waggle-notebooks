{
 "cells": [
  {
   "cell_type": "code",
   "execution_count": 29,
   "metadata": {},
   "outputs": [],
   "source": [
    "import pandas as pd\n",
    "from ipyleaflet import Map, Marker, MarkerCluster"
   ]
  },
  {
   "cell_type": "code",
   "execution_count": 30,
   "metadata": {},
   "outputs": [
    {
     "name": "stdout",
     "output_type": "stream",
     "text": [
      "Found 69 nodes.\n"
     ]
    },
    {
     "data": {
      "application/vnd.jupyter.widget-view+json": {
       "model_id": "c49455a034af4114ad11a97bb9ae318c",
       "version_major": 2,
       "version_minor": 0
      },
      "text/html": [
       "<p>Failed to display Jupyter Widget of type <code>Map</code>.</p>\n",
       "<p>\n",
       "  If you're reading this message in the Jupyter Notebook or JupyterLab Notebook, it may mean\n",
       "  that the widgets JavaScript is still loading. If this message persists, it\n",
       "  likely means that the widgets JavaScript library is either not installed or\n",
       "  not enabled. See the <a href=\"https://ipywidgets.readthedocs.io/en/stable/user_install.html\">Jupyter\n",
       "  Widgets Documentation</a> for setup instructions.\n",
       "</p>\n",
       "<p>\n",
       "  If you're reading this message in another frontend (for example, a static\n",
       "  rendering on GitHub or <a href=\"https://nbviewer.jupyter.org/\">NBViewer</a>),\n",
       "  it may mean that your frontend doesn't currently support widgets.\n",
       "</p>\n"
      ],
      "text/plain": [
       "Map(basemap={'url': 'https://{s}.tile.openstreetmap.org/{z}/{x}/{y}.png', 'max_zoom': 19, 'attribution': 'Map data (c) <a href=\"https://openstreetmap.org\">OpenStreetMap</a> contributors'}, center=[41.8007092, -87.7039084], layers=(TileLayer(base=True, max_zoom=19, min_zoom=1, options=['attribution', 'detect_retina', 'max_zoom', 'min_zoom', 'tile_size']), MarkerCluster(markers=(Marker(location=[41.7370294, -87.57692309999999], options=['alt', 'clickable', 'draggable', 'keyboard', 'rise_offset', 'rise_on_hover', 'title', 'z_index_offset'], title='01F\\nAoT Chicago (S) [C]\\nState St & 87th ,(02/22/2018)'), Marker(location=[41.780468, -87.58650659999998], options=['alt', 'clickable', 'draggable', 'keyboard', 'rise_offset', 'rise_on_hover', 'title', 'z_index_offset'], title='018\\nAoT Chicago (S) [C]\\nStony Island Ave & 63rd St ,(02/26/2018)'), Marker(location=[42.0024119, -87.6796016], options=['alt', 'clickable', 'draggable', 'keyboard', 'rise_offset', 'rise_on_hover', 'title', 'z_index_offset'], title='01D\\nAoT Chicago (S)\\nDamen Ave & Cermak ,[SEC] ,(12/15/2017)'), Marker(location=[41.4632047, -87.4677561], options=['alt', 'clickable', 'draggable', 'keyboard', 'rise_offset', 'rise_on_hover', 'title', 'z_index_offset'], title='040\\nAoT Chicago (S)\\nLake Shore Drive & 85th St ,(11/29/2017)'), Marker(location=[41.891897, -87.627507], options=['alt', 'clickable', 'draggable', 'keyboard', 'rise_offset', 'rise_on_hover', 'title', 'z_index_offset'], title='010\\nAoT Chicago (S) [C]\\nOhio St & Grand Ave ,[NEX] ,(12/01/2017)'), Marker(location=[41.768176200000006, -87.68260310000002], options=['alt', 'clickable', 'draggable', 'keyboard', 'rise_offset', 'rise_on_hover', 'title', 'z_index_offset'], title='020\\nAoT Chicago (S) [C]\\nWestern Ave & 69th St ,[SEC] ,(02/13/2018)'), Marker(location=[41.8023916, -87.6710583], options=['alt', 'clickable', 'draggable', 'keyboard', 'rise_offset', 'rise_on_hover', 'title', 'z_index_offset'], title='00D\\nAoT Chicago (S)\\nCornell & 47th St ,(08/08/2017)'), Marker(location=[41.8568061, -87.6146268], options=['alt', 'clickable', 'draggable', 'keyboard', 'rise_offset', 'rise_on_hover', 'title', 'z_index_offset'], title='006\\nAoT Chicago (S)\\n18th St & Lake Shore Dr ,(08/08/2017)'), Marker(location=[41.856527, -87.6855564], options=['alt', 'clickable', 'draggable', 'keyboard', 'rise_offset', 'rise_on_hover', 'title', 'z_index_offset'], title='025\\nAoT Chicago (S)\\nWestern Ave & 18th St ,[SEC] ,(12/15/2017)'), Marker(location=[41.73828830000001, -87.57287509999998], options=['alt', 'clickable', 'draggable', 'keyboard', 'rise_offset', 'rise_on_hover', 'title', 'z_index_offset'], title='02C\\nAoT Chicago (S) [C]\\nMartin Luther King Dr & 87th St ,(02/16/2018)'), Marker(location=[41.969102899999996, -87.6601463], options=['alt', 'clickable', 'draggable', 'keyboard', 'rise_offset', 'rise_on_hover', 'title', 'z_index_offset'], title='080\\nAoT Chicago (S) [C]\\nBroadway Ave & Lawrence Ave ,[NEC] ,(02/14/2018)'), Marker(location=[41.994454, -87.6553316], options=['alt', 'clickable', 'draggable', 'keyboard', 'rise_offset', 'rise_on_hover', 'title', 'z_index_offset'], title='02F\\nAoT Chicago (S) [C]\\nSheridan Rd & Granville Ave ,(11/28/2017)'), Marker(location=[41.75044219999999, -87.6639672], options=['alt', 'clickable', 'draggable', 'keyboard', 'rise_offset', 'rise_on_hover', 'title', 'z_index_offset'], title='085\\nAoT Chicago (S) [C]\\nAshland Ave & 79th St ,[SEC] ,(02/08/2018)'), Marker(location=[41.88051970000001, -87.68566440000001], options=['alt', 'clickable', 'draggable', 'keyboard', 'rise_offset', 'rise_on_hover', 'title', 'z_index_offset'], title='041\\nAoT Chicago (S)\\nWestern Ave & Madison St ,(11/20/2017)'), Marker(location=[41.7225206, -87.5699351], options=['alt', 'clickable', 'draggable', 'keyboard', 'rise_offset', 'rise_on_hover', 'title', 'z_index_offset'], title='02A\\nAoT Chicago (S) [C]\\nJeffrey Ave & 95th St ,(02/22/2018)'), Marker(location=[41.7957436, -87.67435859999998], options=['alt', 'clickable', 'draggable', 'keyboard', 'rise_offset', 'rise_on_hover', 'title', 'z_index_offset'], title='038\\nAoT Chicago (S)\\nDamen Ave & Archer ,[SEC] ,(12/15/2017)'), Marker(location=[41.9102658, -87.68229769999998], options=['alt', 'clickable', 'draggable', 'keyboard', 'rise_offset', 'rise_on_hover', 'title', 'z_index_offset'], title='04D\\nAoT Chicago (S)\\nLeavitt St & Milwaukee Ave ,(10/09/2017)'), Marker(location=[41.7440434, -87.61445519999998], options=['alt', 'clickable', 'draggable', 'keyboard', 'rise_offset', 'rise_on_hover', 'title', 'z_index_offset'], title='037\\nAoT Chicago (S)\\nMartin Luther King Dr & 83rd St ,(02/16/2018)'), Marker(location=[41.8457656, -87.80576140000001], options=['alt', 'clickable', 'draggable', 'keyboard', 'rise_offset', 'rise_on_hover', 'title', 'z_index_offset'], title='04C\\nAoT Chicago (S) [C]\\nWestern Ave & 25th St ,[NWC] ,(12/15/2017)'), Marker(location=[41.8823915, -87.67167490000001], options=['alt', 'clickable', 'draggable', 'keyboard', 'rise_offset', 'rise_on_hover', 'title', 'z_index_offset'], title='039\\nAoT Chicago (S)\\nWood St & Warren Blvd ,[NEC] ,(03/31/2017)'), Marker(location=[41.8823915, -87.67167490000001], options=['alt', 'clickable', 'draggable', 'keyboard', 'rise_offset', 'rise_on_hover', 'title', 'z_index_offset'], title='032\\nAoT Chicago (S) [C]\\nWood St & Warren Blvd ,[NEC] ,(12/1/2017)'), Marker(location=[41.912624, -87.681488], options=['alt', 'clickable', 'draggable', 'keyboard', 'rise_offset', 'rise_on_hover', 'title', 'z_index_offset'], title='034\\nAoT Chicago (S)\\nMilwaukee Ave & Wabansia Ave ,[NWX] ,(10/09/2017)'), Marker(location=[41.927078200000004, -87.6306335], options=['alt', 'clickable', 'draggable', 'keyboard', 'rise_offset', 'rise_on_hover', 'title', 'z_index_offset'], title='03B\\nAoT Chicago (S) [C]\\nLake Shore Drive & Fullerton Ave ,(NWC) ,(11/28/2017)'), Marker(location=[41.838483000000004, -87.60820919999998], options=['alt', 'clickable', 'draggable', 'keyboard', 'rise_offset', 'rise_on_hover', 'title', 'z_index_offset'], title='05A\\nAoT Chicago (S) [C]\\nFort Dearborn Dr & 31st St ,[NEC] ,(11/29/2017)'), Marker(location=[41.876371999999996, -87.7072464], options=['alt', 'clickable', 'draggable', 'keyboard', 'rise_offset', 'rise_on_hover', 'title', 'z_index_offset'], title='03C\\nAoT Chicago (S)\\nKedzie Ave & 5th Ave ,[NEC] ,(11&12/2017)'), Marker(location=[41.857535, -87.66629499999999], options=['alt', 'clickable', 'draggable', 'keyboard', 'rise_offset', 'rise_on_hover', 'title', 'z_index_offset'], title='04F\\nAoT Chicago (S)\\nAshland Ave & 18th St ,[SWC] ,(11/20/2017)'), Marker(location=[41.880462200000004, -87.72582609999998], options=['alt', 'clickable', 'draggable', 'keyboard', 'rise_offset', 'rise_on_hover', 'title', 'z_index_offset'], title='03F\\nAoT Chicago (S)\\nPulaski Rd & Madison St ,(11/20/2017)'), Marker(location=[41.964821, -87.67853099999998], options=['alt', 'clickable', 'draggable', 'keyboard', 'rise_offset', 'rise_on_hover', 'title', 'z_index_offset'], title='02D\\nAoT Chicago (S) [C]\\nDamen Ave & Wilson Ave ,(02/15/2018)'), Marker(location=[41.903456, -87.66776999999998], options=['alt', 'clickable', 'draggable', 'keyboard', 'rise_offset', 'rise_on_hover', 'title', 'z_index_offset'], title='050\\nAoT Chicago (S)\\nAshland Ave & Division St ,(10/09/2017)'), Marker(location=[42.0024119, -87.6796016], options=['alt', 'clickable', 'draggable', 'keyboard', 'rise_offset', 'rise_on_hover', 'title', 'z_index_offset'], title=\"04E\\nAoT Chicago (S)\\nDamen Ave & Chicago Int'l Produce Mkt ,(11/20/2017)\"), Marker(location=[41.90673029999999, -87.6722312], options=['alt', 'clickable', 'draggable', 'keyboard', 'rise_offset', 'rise_on_hover', 'title', 'z_index_offset'], title='03A\\nAoT Chicago (S)\\nWood St & Milwaukee Ave ,[NEX] ,(10/09/2017)'), Marker(location=[41.8923213, -87.6493665], options=['alt', 'clickable', 'draggable', 'keyboard', 'rise_offset', 'rise_on_hover', 'title', 'z_index_offset'], title='03E\\nAoT Chicago (S)\\n606 Path & Milwaukee Ave ,(01/11/2018)'), Marker(location=[41.884658200000004, -87.6476668], options=['alt', 'clickable', 'draggable', 'keyboard', 'rise_offset', 'rise_on_hover', 'title', 'z_index_offset'], title='03D\\nAoT Chicago (S)\\nHalsted St & Randolph St ,[NEC] ,(12/1/2017)'), Marker(location=[41.7514615, -87.6049795], options=['alt', 'clickable', 'draggable', 'keyboard', 'rise_offset', 'rise_on_hover', 'title', 'z_index_offset'], title='051\\nAoT Chicago (S) [C]\\nCottage Grove Ave & 79th St ,(02/22/2018)'), Marker(location=[41.77886000000001, -87.66376600000001], options=['alt', 'clickable', 'draggable', 'keyboard', 'rise_offset', 'rise_on_hover', 'title', 'z_index_offset'], title='052\\nAoT Chicago (S) [C]\\nAshland & 63rd St ,[SWC] ,(02/13/2018)'), Marker(location=[41.921213, -87.677387], options=['alt', 'clickable', 'draggable', 'keyboard', 'rise_offset', 'rise_on_hover', 'title', 'z_index_offset'], title='048\\nAoT Chicago (S) [C]\\nDamen Ave & Webster ,(02/15/2018)'), Marker(location=[41.85818, -87.65648999999998], options=['alt', 'clickable', 'draggable', 'keyboard', 'rise_offset', 'rise_on_hover', 'title', 'z_index_offset'], title='053\\nAoT Chicago (S) [C]\\nRacine Ave & 18th St ,[SEC] ,(12/15/2017)'), Marker(location=[41.9237601, -87.76076019999998], options=['alt', 'clickable', 'draggable', 'keyboard', 'rise_offset', 'rise_on_hover', 'title', 'z_index_offset'], title='056\\nAoT Chicago (S) [C]\\nLong Ave & Fullerton Ave ,(02/23/2018)'), Marker(location=[41.9389559, -87.727173], options=['alt', 'clickable', 'draggable', 'keyboard', 'rise_offset', 'rise_on_hover', 'title', 'z_index_offset'], title='05D\\nAoT Chicago (S) [C]\\nPulaski Rd & Chicago Ave ,(02/06/2018)'), Marker(location=[41.7378844, -87.60560059999999], options=['alt', 'clickable', 'draggable', 'keyboard', 'rise_offset', 'rise_on_hover', 'title', 'z_index_offset'], title='087\\nAoT Chicago (S) [C]\\nCottage Grove Ave & 87th St ,(02/16/2018)'), Marker(location=[41.9251177, -87.6882583], options=['alt', 'clickable', 'draggable', 'keyboard', 'rise_offset', 'rise_on_hover', 'title', 'z_index_offset'], title='08C\\nAoT Chicago (S) [C]\\nWestern Ave & Fullerton Ave ,[NWC] ,(02/07/2018)'), Marker(location=[41.89538110000001, -87.7453841], options=['alt', 'clickable', 'draggable', 'keyboard', 'rise_offset', 'rise_on_hover', 'title', 'z_index_offset'], title='08D\\nAoT Chicago (S) [C]\\nCicero Ave & Chicago Ave ,(02/05/2018)'), Marker(location=[41.8324363, -87.6458069], options=['alt', 'clickable', 'draggable', 'keyboard', 'rise_offset', 'rise_on_hover', 'title', 'z_index_offset'], title='030\\nAoT Chicago (S) [C]\\nHalsted St & 34th St ,[NEC] ,(02/13/2018)'), Marker(location=[41.9169768, -87.66422129999998], options=['alt', 'clickable', 'draggable', 'keyboard', 'rise_offset', 'rise_on_hover', 'title', 'z_index_offset'], title='090\\nAoT Chicago (S) [C]\\nClybourn Ave & Cortland St ,(02/28/2018)'), Marker(location=[41.8960695, -87.66071120000001], options=['alt', 'clickable', 'draggable', 'keyboard', 'rise_offset', 'rise_on_hover', 'title', 'z_index_offset'], title='089\\nAoT Chicago (S) [C]\\nChicago Ave & Noble St ,(02/06/2018)'), Marker(location=[41.960827200000004, -87.73886689999998], options=['alt', 'clickable', 'draggable', 'keyboard', 'rise_offset', 'rise_on_hover', 'title', 'z_index_offset'], title='08F\\nAoT Chicago (S) [C]\\nClark St & Montrose Ave ,[NWC] ,(02/14/2018)'), Marker(location=[41.693137899999996, -87.60949190000001], options=['alt', 'clickable', 'draggable', 'keyboard', 'rise_offset', 'rise_on_hover', 'title', 'z_index_offset'], title='08E\\nAoT Chicago (S) [C]\\nCottage Grove Ave & 111th St ,[NWC] ,(02/08/2018)'), Marker(location=[41.9689086, -87.67939059999998], options=['alt', 'clickable', 'draggable', 'keyboard', 'rise_offset', 'rise_on_hover', 'title', 'z_index_offset'], title='086\\nAoT Chicago (S) [C]\\nDamen Ave & Lawrence Ave ,(02/15/2018)'), Marker(location=[41.9660259, -87.667487], options=['alt', 'clickable', 'draggable', 'keyboard', 'rise_offset', 'rise_on_hover', 'title', 'z_index_offset'], title='088\\nAoT Chicago (S) [C]\\nClark St & Wilson Ave ,[SEC] ,(02/14/2018)'), Marker(location=[41.872133000000005, -87.64137269999998], options=['alt', 'clickable', 'draggable', 'keyboard', 'rise_offset', 'rise_on_hover', 'title', 'z_index_offset'], title='07F\\nAoT Chicago (S) [C]\\nDamen Ave & Polk St ,(02/06/2018)'), Marker(location=[41.879763, -87.7954683], options=['alt', 'clickable', 'draggable', 'keyboard', 'rise_offset', 'rise_on_hover', 'title', 'z_index_offset'], title='07E\\nAoT Chicago (S) [C]\\nCicero Ave & Madison St ,(02/05/2018)'), Marker(location=[41.9173784, -87.6582171], options=['alt', 'clickable', 'draggable', 'keyboard', 'rise_offset', 'rise_on_hover', 'title', 'z_index_offset'], title='06A\\nAoT Chicago (S) [C]\\nClybourn Ave & North Ave ,(02/23/2018)'), Marker(location=[41.867107, -87.66655], options=['alt', 'clickable', 'draggable', 'keyboard', 'rise_offset', 'rise_on_hover', 'title', 'z_index_offset'], title='062\\nAoT Chicago (S) [C]\\nAshland Ave & Roosevelt Rd ,(02/27/2018)'), Marker(location=[41.7543926, -87.71377029999998], options=['alt', 'clickable', 'draggable', 'keyboard', 'rise_offset', 'rise_on_hover', 'title', 'z_index_offset'], title='072\\nAoT Chicago (S) [CA] {ComEd}\\n7801 S Lawndale Ave, Chicago'), Marker(location=[41.786854, -87.6643744], options=['alt', 'clickable', 'draggable', 'keyboard', 'rise_offset', 'rise_on_hover', 'title', 'z_index_offset'], title='06B\\nAoT Chicago (S) [C]\\nAshland Ave & 59th St ,(02/26/2018)'), Marker(location=[41.808392, -87.6651], options=['alt', 'clickable', 'draggable', 'keyboard', 'rise_offset', 'rise_on_hover', 'title', 'z_index_offset'], title='067\\nAoT Chicago (S) [C]\\nAshland Ave & 47th ,(02/27/2018)'), Marker(location=[41.823509, -87.64107199999998], options=['alt', 'clickable', 'draggable', 'keyboard', 'rise_offset', 'rise_on_hover', 'title', 'z_index_offset'], title='081\\nAoT Chicago (S) [C]\\nWallace St & Pershing Rd ,(02/27/2018)'), Marker(location=[41.9463158, -87.72694240000001], options=['alt', 'clickable', 'draggable', 'keyboard', 'rise_offset', 'rise_on_hover', 'title', 'z_index_offset'], title='082\\nAoT Chicago (S) [C]\\nPulaski Rd & Addison St ,(02/23/2018)'), Marker(location=[41.7511419, -87.71298980000002], options=['alt', 'clickable', 'draggable', 'keyboard', 'rise_offset', 'rise_on_hover', 'title', 'z_index_offset'], title='070\\nAoT Chicago (S) [CA] {ComEd}\\n7801 S Lawndale Ave, Chicago'), Marker(location=[41.923774, -87.6686804], options=['alt', 'clickable', 'draggable', 'keyboard', 'rise_offset', 'rise_on_hover', 'title', 'z_index_offset'], title='079\\nAoT Chicago (S) [C]\\nAshland Ave & Clybourn Ave ,(02/28/2018)'), Marker(location=[41.7647185, -87.72196919999998], options=['alt', 'clickable', 'draggable', 'keyboard', 'rise_offset', 'rise_on_hover', 'title', 'z_index_offset'], title='097\\nAoT Chicago (S) [C]\\nPulaski Rd & 71st St ,(03/02/2018)'), Marker(location=[41.90673029999999, -87.6722312], options=['alt', 'clickable', 'draggable', 'keyboard', 'rise_offset', 'rise_on_hover', 'title', 'z_index_offset'], title='075\\nAoT Chicago (S) [C]\\nMilwaukee Ave & Wood St ,(03/09/2018)'), Marker(location=[41.794776899999995, -87.6168442], options=['alt', 'clickable', 'draggable', 'keyboard', 'rise_offset', 'rise_on_hover', 'title', 'z_index_offset'], title='073\\nAoT Chicago (S) [C]\\nMartin Luther King Dr & Garfield Blvd ,(03/08/2018)'), Marker(location=[41.83232520000001, -87.61605449999998], options=['alt', 'clickable', 'draggable', 'keyboard', 'rise_offset', 'rise_on_hover', 'title', 'z_index_offset'], title='077\\nAoT Chicago (S) [C]\\nMartin Luther King Dr & 35th St ,(03/08/2018)'), Marker(location=[41.8313252, -87.61705449999998], options=['alt', 'clickable', 'draggable', 'keyboard', 'rise_offset', 'rise_on_hover', 'title', 'z_index_offset'], title='07C\\nAoT Chicago (S) [C]\\nLake Shore Drive & Fullerton Ave ,(03/09/2018)'), Marker(location=[41.666470000000004, -87.539331], options=['alt', 'clickable', 'draggable', 'keyboard', 'rise_offset', 'rise_on_hover', 'title', 'z_index_offset'], title='095\\nAoT Chicago (S) [C]\\nAve O & 126th ,(03/02/2018)'), Marker(location=[41.903528, -87.648259], options=['alt', 'clickable', 'draggable', 'keyboard', 'rise_offset', 'rise_on_hover', 'title', 'z_index_offset'], title='091\\nAoT Chicago (S) [C]\\nHalsted St & Division St ,(02/28/2018)'), Marker(location=[41.714265999999995, -87.536473], options=['alt', 'clickable', 'draggable', 'keyboard', 'rise_offset', 'rise_on_hover', 'title', 'z_index_offset'], title='096\\nAoT Chicago (S) [C]\\nAve L & 100th St ,(03/01/2018)'), Marker(location=[41.8007092, -87.7039084], options=['alt', 'clickable', 'draggable', 'keyboard', 'rise_offset', 'rise_on_hover', 'title', 'z_index_offset'], title='092\\nAoT Chicago (S) [C]\\nKedzie Ave & 51st St ,(03/02/2018)')))), options=['attribution_control', 'basemap', 'bounce_at_zoom_limits', 'box_zoom', 'center', 'close_popup_on_click', 'double_click_zoom', 'dragging', 'inertia', 'inertia_deceleration', 'inertia_max_speed', 'keyboard', 'keyboard_pan_offset', 'keyboard_zoom_offset', 'max_zoom', 'min_zoom', 'scroll_wheel_zoom', 'tap', 'tap_tolerance', 'touch_zoom', 'world_copy_jump', 'zoom', 'zoom_animation_threshold', 'zoom_control', 'zoom_start'], zoom=10)"
      ]
     },
     "metadata": {},
     "output_type": "display_data"
    }
   ],
   "source": [
    "nodes = pd.read_csv('https://raw.githubusercontent.com/waggle-sensor/beehive-server/master/publishing-tools/examples/plenario/nodes.csv').dropna()\n",
    "\n",
    "markers = []\n",
    "\n",
    "for r in nodes.itertuples():\n",
    "    center = (r.lat, r.lon)\n",
    "    title = '{}\\n{}\\n{}'.format(r.vsn, r.description, r.address)\n",
    "    markers.append(Marker(location=center, title=title))\n",
    "\n",
    "\n",
    "m = Map(center=center, zoom=10)\n",
    "marker_cluster = MarkerCluster(markers=markers)\n",
    "m.add_layer(marker_cluster)\n",
    "\n",
    "print('Found {} nodes.'.format(len(markers)))\n",
    "m"
   ]
  },
  {
   "cell_type": "code",
   "execution_count": null,
   "metadata": {},
   "outputs": [],
   "source": []
  }
 ],
 "metadata": {
  "kernelspec": {
   "display_name": "Python 3",
   "language": "python",
   "name": "python3"
  },
  "language_info": {
   "codemirror_mode": {
    "name": "ipython",
    "version": 3
   },
   "file_extension": ".py",
   "mimetype": "text/x-python",
   "name": "python",
   "nbconvert_exporter": "python",
   "pygments_lexer": "ipython3",
   "version": "3.6.4"
  }
 },
 "nbformat": 4,
 "nbformat_minor": 2
}
