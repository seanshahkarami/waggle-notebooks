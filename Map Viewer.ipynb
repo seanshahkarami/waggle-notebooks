{
 "cells": [
  {
   "cell_type": "code",
   "execution_count": 15,
   "metadata": {},
   "outputs": [],
   "source": [
    "import pandas as pd\n",
    "from ipyleaflet import Map, Marker, MarkerCluster"
   ]
  },
  {
   "cell_type": "code",
   "execution_count": 18,
   "metadata": {},
   "outputs": [
    {
     "name": "stdout",
     "output_type": "stream",
     "text": [
      "Found 69 nodes.\n"
     ]
    },
    {
     "data": {
      "application/vnd.jupyter.widget-view+json": {
       "model_id": "7397b51f846b412eb472634a3d10a0ca",
       "version_major": 2,
       "version_minor": 0
      },
      "text/html": [
       "<p>Failed to display Jupyter Widget of type <code>Map</code>.</p>\n",
       "<p>\n",
       "  If you're reading this message in the Jupyter Notebook or JupyterLab Notebook, it may mean\n",
       "  that the widgets JavaScript is still loading. If this message persists, it\n",
       "  likely means that the widgets JavaScript library is either not installed or\n",
       "  not enabled. See the <a href=\"https://ipywidgets.readthedocs.io/en/stable/user_install.html\">Jupyter\n",
       "  Widgets Documentation</a> for setup instructions.\n",
       "</p>\n",
       "<p>\n",
       "  If you're reading this message in another frontend (for example, a static\n",
       "  rendering on GitHub or <a href=\"https://nbviewer.jupyter.org/\">NBViewer</a>),\n",
       "  it may mean that your frontend doesn't currently support widgets.\n",
       "</p>\n"
      ],
      "text/plain": [
       "Map(basemap={'url': 'https://{s}.tile.openstreetmap.org/{z}/{x}/{y}.png', 'max_zoom': 19, 'attribution': 'Map data (c) <a href=\"https://openstreetmap.org\">OpenStreetMap</a> contributors'}, center=[41.85306265217392, -87.65907066666668], layers=(TileLayer(base=True, max_zoom=19, min_zoom=1, options=['attribution', 'detect_retina', 'max_zoom', 'min_zoom', 'tile_size']), MarkerCluster(markers=(Marker(location=[41.736314, -87.624179], options=['alt', 'clickable', 'draggable', 'keyboard', 'rise_offset', 'rise_on_hover', 'title', 'z_index_offset'], title='01F\\nAoT Chicago (S) [C]\\n State St & 87th Chicago IL'), Marker(location=[41.7806, -87.58645600000001], options=['alt', 'clickable', 'draggable', 'keyboard', 'rise_offset', 'rise_on_hover', 'title', 'z_index_offset'], title='018\\nAoT Chicago (S) [C]\\n Stony Island Ave & 63rd St Chicago IL'), Marker(location=[41.852179, -87.675825], options=['alt', 'clickable', 'draggable', 'keyboard', 'rise_offset', 'rise_on_hover', 'title', 'z_index_offset'], title='01D\\nAoT Chicago (S)\\n Damen Ave & Cermak Chicago IL'), Marker(location=[41.741147999999995, -87.54045], options=['alt', 'clickable', 'draggable', 'keyboard', 'rise_offset', 'rise_on_hover', 'title', 'z_index_offset'], title='040\\nAoT Chicago (S)\\n Lake Shore Drive & 85th St Chicago IL'), Marker(location=[41.891964, -87.611603], options=['alt', 'clickable', 'draggable', 'keyboard', 'rise_offset', 'rise_on_hover', 'title', 'z_index_offset'], title='010\\nAoT Chicago (S) [C]\\n Ohio St & Grand Ave Chicago IL'), Marker(location=[41.768319, -87.683396], options=['alt', 'clickable', 'draggable', 'keyboard', 'rise_offset', 'rise_on_hover', 'title', 'z_index_offset'], title='020\\nAoT Chicago (S) [C]\\n Western Ave & 69th St Chicago IL'), Marker(location=[41.810342, -87.590228], options=['alt', 'clickable', 'draggable', 'keyboard', 'rise_offset', 'rise_on_hover', 'title', 'z_index_offset'], title='00D\\nAoT Chicago (S)\\n Cornell & 47th St Chicago IL'), Marker(location=[41.858136, -87.616055], options=['alt', 'clickable', 'draggable', 'keyboard', 'rise_offset', 'rise_on_hover', 'title', 'z_index_offset'], title='006\\nAoT Chicago (S)\\n 18th St & Lake Shore Dr Chicago IL'), Marker(location=[41.857797, -87.685806], options=['alt', 'clickable', 'draggable', 'keyboard', 'rise_offset', 'rise_on_hover', 'title', 'z_index_offset'], title='025\\nAoT Chicago (S)\\n Western Ave & 18th St Chicago IL'), Marker(location=[41.736495, -87.614529], options=['alt', 'clickable', 'draggable', 'keyboard', 'rise_offset', 'rise_on_hover', 'title', 'z_index_offset'], title='02C\\nAoT Chicago (S) [C]\\n Martin Luther King Dr & 87th St Chicago IL'), Marker(location=[41.96904, -87.659672], options=['alt', 'clickable', 'draggable', 'keyboard', 'rise_offset', 'rise_on_hover', 'title', 'z_index_offset'], title='080\\nAoT Chicago (S) [C]\\n Broadway Ave & Lawrence Ave Chicago IL'), Marker(location=[41.994597, -87.655523], options=['alt', 'clickable', 'draggable', 'keyboard', 'rise_offset', 'rise_on_hover', 'title', 'z_index_offset'], title='02F\\nAoT Chicago (S) [C]\\n Sheridan Rd & Granville Ave Chicago IL'), Marker(location=[41.75034, -87.66351800000001], options=['alt', 'clickable', 'draggable', 'keyboard', 'rise_offset', 'rise_on_hover', 'title', 'z_index_offset'], title='085\\nAoT Chicago (S) [C]\\n Ashland Ave & 79th St Chicago IL'), Marker(location=[41.881172, -87.686359], options=['alt', 'clickable', 'draggable', 'keyboard', 'rise_offset', 'rise_on_hover', 'title', 'z_index_offset'], title='041\\nAoT Chicago (S)\\n Western Ave & Madison St Chicago IL'), Marker(location=[41.722457, -87.57535], options=['alt', 'clickable', 'draggable', 'keyboard', 'rise_offset', 'rise_on_hover', 'title', 'z_index_offset'], title='02A\\nAoT Chicago (S) [C]\\n Jeffrey Ave & 95th St Chicago IL'), Marker(location=[41.831827000000004, -87.675311], options=['alt', 'clickable', 'draggable', 'keyboard', 'rise_offset', 'rise_on_hover', 'title', 'z_index_offset'], title='038\\nAoT Chicago (S)\\n Damen Ave & Archer Chicago IL'), Marker(location=[41.913583, -87.682414], options=['alt', 'clickable', 'draggable', 'keyboard', 'rise_offset', 'rise_on_hover', 'title', 'z_index_offset'], title='04D\\nAoT Chicago (S)\\n Leavitt St & Milwaukee Ave Chicago IL'), Marker(location=[41.743814, -87.61473199999999], options=['alt', 'clickable', 'draggable', 'keyboard', 'rise_offset', 'rise_on_hover', 'title', 'z_index_offset'], title='037\\nAoT Chicago (S)\\n Martin Luther King Dr & 83rd St Chicago IL'), Marker(location=[41.846579, -87.68555699999999], options=['alt', 'clickable', 'draggable', 'keyboard', 'rise_offset', 'rise_on_hover', 'title', 'z_index_offset'], title='04C\\nAoT Chicago (S) [C]\\n Western Ave & 25th St Chicago IL'), Marker(location=[41.94672, -87.69068], options=['alt', 'clickable', 'draggable', 'keyboard', 'rise_offset', 'rise_on_hover', 'title', 'z_index_offset'], title='039\\nAoT Chicago (S)\\n Campbell Ave & Addison St Chicago IL'), Marker(location=[41.912681, -87.68105200000001], options=['alt', 'clickable', 'draggable', 'keyboard', 'rise_offset', 'rise_on_hover', 'title', 'z_index_offset'], title='034\\nAoT Chicago (S)\\n Milwaukee Ave & Wabansia Ave Chicago IL'), Marker(location=[41.838618, -87.607817], options=['alt', 'clickable', 'draggable', 'keyboard', 'rise_offset', 'rise_on_hover', 'title', 'z_index_offset'], title='05A\\nAoT Chicago (S) [C]\\n Fort Dearborn Dr & 31st St Chicago IL'), Marker(location=[41.878372, -87.70604200000001], options=['alt', 'clickable', 'draggable', 'keyboard', 'rise_offset', 'rise_on_hover', 'title', 'z_index_offset'], title='03C\\nAoT Chicago (S)\\n Kedzie Ave & 5th Ave Chicago IL'), Marker(location=[41.857775, -87.66614399999999], options=['alt', 'clickable', 'draggable', 'keyboard', 'rise_offset', 'rise_on_hover', 'title', 'z_index_offset'], title='04F\\nAoT Chicago (S)\\n Ashland Ave & 18th St Chicago IL'), Marker(location=[41.880732, -87.72565999999999], options=['alt', 'clickable', 'draggable', 'keyboard', 'rise_offset', 'rise_on_hover', 'title', 'z_index_offset'], title='03F\\nAoT Chicago (S)\\n Pulaski Rd & Madison St Chicago IL'), Marker(location=[41.882304, -87.671773], options=['alt', 'clickable', 'draggable', 'keyboard', 'rise_offset', 'rise_on_hover', 'title', 'z_index_offset'], title='032\\nAoT Chicago (S) [C]\\n Wood St & Warren Blv Chicago IL'), Marker(location=[41.965089, -87.679076], options=['alt', 'clickable', 'draggable', 'keyboard', 'rise_offset', 'rise_on_hover', 'title', 'z_index_offset'], title='02D\\nAoT Chicago (S) [C]\\n Damen Ave & Wilson Ave Chicago IL'), Marker(location=[41.903335, -87.6674], options=['alt', 'clickable', 'draggable', 'keyboard', 'rise_offset', 'rise_on_hover', 'title', 'z_index_offset'], title='050\\nAoT Chicago (S)\\n Ashland Ave & Division St Chicago IL'), Marker(location=[42.002412, -87.679602], options=['alt', 'clickable', 'draggable', 'keyboard', 'rise_offset', 'rise_on_hover', 'title', 'z_index_offset'], title=\"04E\\nAoT Chicago (S)\\n Damen Ave & Chicago Int'l Produce Mkt Chicago IL\"), Marker(location=[41.914202, -87.683048], options=['alt', 'clickable', 'draggable', 'keyboard', 'rise_offset', 'rise_on_hover', 'title', 'z_index_offset'], title='03E\\nAoT Chicago (S)\\n 606 Path & Milwaukee Ave Chicago IL'), Marker(location=[41.88431, -87.64743100000001], options=['alt', 'clickable', 'draggable', 'keyboard', 'rise_offset', 'rise_on_hover', 'title', 'z_index_offset'], title='03D\\nAoT Chicago (S)\\n Halsted St & Randolph St Chicago IL'), Marker(location=[41.751295, -87.605288], options=['alt', 'clickable', 'draggable', 'keyboard', 'rise_offset', 'rise_on_hover', 'title', 'z_index_offset'], title='051\\nAoT Chicago (S) [C]\\n Cottage Grove Ave & 79th St Chicago IL'), Marker(location=[41.779369, -87.66442099999999], options=['alt', 'clickable', 'draggable', 'keyboard', 'rise_offset', 'rise_on_hover', 'title', 'z_index_offset'], title='052\\nAoT Chicago (S) [C]\\n Ashland & 63rd St Chicago IL'), Marker(location=[41.921405, -87.677766], options=['alt', 'clickable', 'draggable', 'keyboard', 'rise_offset', 'rise_on_hover', 'title', 'z_index_offset'], title='048\\nAoT Chicago (S) [C]\\n Damen Ave & Webster Chicago IL'), Marker(location=[41.857959, -87.65642700000001], options=['alt', 'clickable', 'draggable', 'keyboard', 'rise_offset', 'rise_on_hover', 'title', 'z_index_offset'], title='053\\nAoT Chicago (S) [C]\\n Racine Ave & 18th St Chicago IL'), Marker(location=[41.923996, -87.761072], options=['alt', 'clickable', 'draggable', 'keyboard', 'rise_offset', 'rise_on_hover', 'title', 'z_index_offset'], title='056\\nAoT Chicago (S) [C]\\n Long Ave & Fullerton Ave Chicago IL'), Marker(location=[41.788608, -87.598713], options=['alt', 'clickable', 'draggable', 'keyboard', 'rise_offset', 'rise_on_hover', 'title', 'z_index_offset'], title='08B\\nAoT Chicago (S) [C] {UChicago}\\n UChicago Chicago IL'), Marker(location=[41.895355, -87.72606400000001], options=['alt', 'clickable', 'draggable', 'keyboard', 'rise_offset', 'rise_on_hover', 'title', 'z_index_offset'], title='05D\\nAoT Chicago (S) [C]\\n Pulaski Rd & Chicago Ave Chicago IL'), Marker(location=[41.736593, -87.604759], options=['alt', 'clickable', 'draggable', 'keyboard', 'rise_offset', 'rise_on_hover', 'title', 'z_index_offset'], title='087\\nAoT Chicago (S) [C]\\n Cottage Grove Ave & 87th St Chicago IL'), Marker(location=[41.924903, -87.687703], options=['alt', 'clickable', 'draggable', 'keyboard', 'rise_offset', 'rise_on_hover', 'title', 'z_index_offset'], title='08C\\nAoT Chicago (S) [C]\\n Western Ave & Fullerton Ave Chicago IL'), Marker(location=[41.895005, -87.745817], options=['alt', 'clickable', 'draggable', 'keyboard', 'rise_offset', 'rise_on_hover', 'title', 'z_index_offset'], title='08D\\nAoT Chicago (S) [C]\\n Cicero Ave & Chicago Ave Chicago IL'), Marker(location=[41.832578999999996, -87.64613299999999], options=['alt', 'clickable', 'draggable', 'keyboard', 'rise_offset', 'rise_on_hover', 'title', 'z_index_offset'], title='030\\nAoT Chicago (S) [C]\\n Halsted St & 34th St Chicago IL'), Marker(location=[41.939121, -87.723801], options=['alt', 'clickable', 'draggable', 'keyboard', 'rise_offset', 'rise_on_hover', 'title', 'z_index_offset'], title='090\\nAoT Chicago (S) [C]\\n Milwaukee & Belmont Chicago IL'), Marker(location=[41.896157, -87.662391], options=['alt', 'clickable', 'draggable', 'keyboard', 'rise_offset', 'rise_on_hover', 'title', 'z_index_offset'], title='089\\nAoT Chicago (S) [C]\\n Chicago Ave & Noble St Chicago IL'), Marker(location=[41.961622, -87.665948], options=['alt', 'clickable', 'draggable', 'keyboard', 'rise_offset', 'rise_on_hover', 'title', 'z_index_offset'], title='08F\\nAoT Chicago (S) [C]\\n Clark St & Montrose Ave Chicago IL'), Marker(location=[41.692769, -87.609852], options=['alt', 'clickable', 'draggable', 'keyboard', 'rise_offset', 'rise_on_hover', 'title', 'z_index_offset'], title='08E\\nAoT Chicago (S) [C]\\n Cottage Grove Ave & 111th St Chicago IL'), Marker(location=[41.968757000000004, -87.679174], options=['alt', 'clickable', 'draggable', 'keyboard', 'rise_offset', 'rise_on_hover', 'title', 'z_index_offset'], title='086\\nAoT Chicago (S) [C]\\n Damen Ave & Lawrence Ave Chicago IL'), Marker(location=[41.965256, -87.66672], options=['alt', 'clickable', 'draggable', 'keyboard', 'rise_offset', 'rise_on_hover', 'title', 'z_index_offset'], title='088\\nAoT Chicago (S) [C]\\n Clark St & Wilson Ave Chicago IL'), Marker(location=[41.87148, -87.67644], options=['alt', 'clickable', 'draggable', 'keyboard', 'rise_offset', 'rise_on_hover', 'title', 'z_index_offset'], title='07F\\nAoT Chicago (S) [C]\\n Damen Ave & Polk St Chicago IL'), Marker(location=[41.880497, -87.74526800000001], options=['alt', 'clickable', 'draggable', 'keyboard', 'rise_offset', 'rise_on_hover', 'title', 'z_index_offset'], title='07E\\nAoT Chicago (S) [C]\\n Cicero Ave & Madison St Chicago IL'), Marker(location=[41.910922, -87.649518], options=['alt', 'clickable', 'draggable', 'keyboard', 'rise_offset', 'rise_on_hover', 'title', 'z_index_offset'], title='06A\\nAoT Chicago (S) [C]\\n Clybourn Ave & North Ave Chicago IL'), Marker(location=[41.866786, -87.666306], options=['alt', 'clickable', 'draggable', 'keyboard', 'rise_offset', 'rise_on_hover', 'title', 'z_index_offset'], title='062\\nAoT Chicago (S) [C]\\n Ashland Ave & Roosevelt Rd Chicago IL'), Marker(location=[41.751142, -87.71299], options=['alt', 'clickable', 'draggable', 'keyboard', 'rise_offset', 'rise_on_hover', 'title', 'z_index_offset'], title='072\\nAoT Chicago (S) [CA] {ComEd}\\n 7801 S Lawndale Ave Chicago IL'), Marker(location=[41.786756, -87.664343], options=['alt', 'clickable', 'draggable', 'keyboard', 'rise_offset', 'rise_on_hover', 'title', 'z_index_offset'], title='06B\\nAoT Chicago (S) [C]\\n Ashland Ave & 59th St Chicago IL'), Marker(location=[41.808594, -87.665048], options=['alt', 'clickable', 'draggable', 'keyboard', 'rise_offset', 'rise_on_hover', 'title', 'z_index_offset'], title='067\\nAoT Chicago (S) [C]\\n Ashland Ave & 47th Chicago IL'), Marker(location=[41.666078000000006, -87.539374], options=['alt', 'clickable', 'draggable', 'keyboard', 'rise_offset', 'rise_on_hover', 'title', 'z_index_offset'], title='095\\nAoT Chicago (S) [C]\\n Ave O & 126th Chicago IL'), Marker(location=[41.823527, -87.641054], options=['alt', 'clickable', 'draggable', 'keyboard', 'rise_offset', 'rise_on_hover', 'title', 'z_index_offset'], title='081\\nAoT Chicago (S) [C]\\n Wallace St & Pershing Rd Chicago IL'), Marker(location=[41.946373, -87.72738199999999], options=['alt', 'clickable', 'draggable', 'keyboard', 'rise_offset', 'rise_on_hover', 'title', 'z_index_offset'], title='082\\nAoT Chicago (S) [C]\\n Pulaski Rd & Addison St Chicago IL'), Marker(location=[41.751142, -87.71299], options=['alt', 'clickable', 'draggable', 'keyboard', 'rise_offset', 'rise_on_hover', 'title', 'z_index_offset'], title='070\\nAoT Chicago (S) [CA] {ComEd}\\n 7801 S Lawndale Ave Chicago IL'), Marker(location=[41.954626, -87.645247], options=['alt', 'clickable', 'draggable', 'keyboard', 'rise_offset', 'rise_on_hover', 'title', 'z_index_offset'], title='076\\nAoT Chicago (S) [C]\\n LSD Marine Dr & Irving Park Rd Chicago IL'), Marker(location=[41.764122, -87.72242], options=['alt', 'clickable', 'draggable', 'keyboard', 'rise_offset', 'rise_on_hover', 'title', 'z_index_offset'], title='097\\nAoT Chicago (S) [C]\\n Pulaski Rd & 71st St Chicago IL'), Marker(location=[41.903632, -87.648093], options=['alt', 'clickable', 'draggable', 'keyboard', 'rise_offset', 'rise_on_hover', 'title', 'z_index_offset'], title='091\\nAoT Chicago (S) [C]\\n Halsted St & Division St Chicago IL'), Marker(location=[41.713867, -87.536509], options=['alt', 'clickable', 'draggable', 'keyboard', 'rise_offset', 'rise_on_hover', 'title', 'z_index_offset'], title='096\\nAoT Chicago (S) [C]\\n Ave L & 100th St Chicago IL'), Marker(location=[41.800846, -87.703739], options=['alt', 'clickable', 'draggable', 'keyboard', 'rise_offset', 'rise_on_hover', 'title', 'z_index_offset'], title='092\\nAoT Chicago (S) [C]\\n Kedzie Ave & 51st St Chicago IL'), Marker(location=[41.918733, -87.668257], options=['alt', 'clickable', 'draggable', 'keyboard', 'rise_offset', 'rise_on_hover', 'title', 'z_index_offset'], title='079\\nAoT Chicago (S) [C]\\n Ashland Ave & Elston Ave Chicago IL'), Marker(location=[41.831070000000004, -87.617298], options=['alt', 'clickable', 'draggable', 'keyboard', 'rise_offset', 'rise_on_hover', 'title', 'z_index_offset'], title='077\\nAoT Chicago (S) [C]\\n Martin Luther King Dr & 35th St Chicago IL'), Marker(location=[41.92617, -87.63153299999999], options=['alt', 'clickable', 'draggable', 'keyboard', 'rise_offset', 'rise_on_hover', 'title', 'z_index_offset'], title='07C\\nAoT Chicago (S) [C]\\n Lake Shore Drive & Fullerton Ave Chicago IL'), Marker(location=[41.794477, -87.615957], options=['alt', 'clickable', 'draggable', 'keyboard', 'rise_offset', 'rise_on_hover', 'title', 'z_index_offset'], title='073\\nAoT Chicago (S) [C]\\n Martin Luther King Dr & Garfield Blvd Chicago IL'), Marker(location=[41.906481, -87.671373], options=['alt', 'clickable', 'draggable', 'keyboard', 'rise_offset', 'rise_on_hover', 'title', 'z_index_offset'], title='075\\nAoT Chicago (S) [C]\\n Milwaukee Ave & Wood St Chicago IL')))), options=['attribution_control', 'basemap', 'bounce_at_zoom_limits', 'box_zoom', 'center', 'close_popup_on_click', 'double_click_zoom', 'dragging', 'inertia', 'inertia_deceleration', 'inertia_max_speed', 'keyboard', 'keyboard_pan_offset', 'keyboard_zoom_offset', 'max_zoom', 'min_zoom', 'scroll_wheel_zoom', 'tap', 'tap_tolerance', 'touch_zoom', 'world_copy_jump', 'zoom', 'zoom_animation_threshold', 'zoom_control', 'zoom_start'], zoom=10)"
      ]
     },
     "metadata": {},
     "output_type": "display_data"
    }
   ],
   "source": [
    "nodes = pd.read_csv('https://raw.githubusercontent.com/waggle-sensor/beehive-server/master/publishing-tools/projects/AoT%20Chicago/nodes.csv', index_col='node_id').dropna()\n",
    "\n",
    "markers = []\n",
    "\n",
    "for r in nodes.itertuples():\n",
    "    center = (r.lat, r.lon)\n",
    "    title = '{}\\n{}\\n{}'.format(r.vsn, r.description, r.address)\n",
    "    markers.append(Marker(location=center, title=title))\n",
    "\n",
    "m = Map(center=[nodes.lat.mean(), nodes.lon.mean()], zoom=10)\n",
    "marker_cluster = MarkerCluster(markers=markers)\n",
    "m.add_layer(marker_cluster)\n",
    "\n",
    "print('Found {} nodes.'.format(len(markers)))\n",
    "m"
   ]
  },
  {
   "cell_type": "code",
   "execution_count": null,
   "metadata": {},
   "outputs": [],
   "source": []
  }
 ],
 "metadata": {
  "kernelspec": {
   "display_name": "Python 3",
   "language": "python",
   "name": "python3"
  },
  "language_info": {
   "codemirror_mode": {
    "name": "ipython",
    "version": 3
   },
   "file_extension": ".py",
   "mimetype": "text/x-python",
   "name": "python",
   "nbconvert_exporter": "python",
   "pygments_lexer": "ipython3",
   "version": "3.6.4"
  }
 },
 "nbformat": 4,
 "nbformat_minor": 2
}
