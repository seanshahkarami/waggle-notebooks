{
 "cells": [
  {
   "cell_type": "code",
   "execution_count": 1,
   "metadata": {},
   "outputs": [],
   "source": [
    "%matplotlib inline\n",
    "import pandas as pd\n",
    "import folium\n",
    "from folium.plugins import HeatMap"
   ]
  },
  {
   "cell_type": "code",
   "execution_count": 2,
   "metadata": {},
   "outputs": [],
   "source": [
    "nodes = pd.read_csv('https://raw.githubusercontent.com/waggle-sensor/beehive-server/master/publishing-tools/projects/AoT_Chicago.complete/nodes.csv', index_col='node_id').dropna()"
   ]
  },
  {
   "cell_type": "code",
   "execution_count": 3,
   "metadata": {},
   "outputs": [],
   "source": [
    "df = pd.read_csv('http://www.mcs.anl.gov/research/projects/waggle/downloads/beehive1/plenario.csv',\n",
    "                 sep=';',\n",
    "                 names=['node_id', 'timestamp', 'plugin', 'topic', 'sensor', 'param', 'value'],\n",
    "                 parse_dates=['timestamp'])"
   ]
  },
  {
   "cell_type": "code",
   "execution_count": 4,
   "metadata": {},
   "outputs": [],
   "source": [
    "temperatures = df[df.param == 'temperature']\n",
    "data = temperatures.groupby('node_id').mean().join(nodes)[['lat', 'lon', 'value']].values.tolist()"
   ]
  },
  {
   "cell_type": "code",
   "execution_count": 5,
   "metadata": {
    "scrolled": false
   },
   "outputs": [
    {
     "data": {
      "text/html": [
       "<div style=\"width:100%;\"><div style=\"position:relative;width:100%;height:0;padding-bottom:60%;\"><iframe src=\"data:text/html;charset=utf-8;base64,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\" style=\"position:absolute;width:100%;height:100%;left:0;top:0;border:none !important;\" allowfullscreen webkitallowfullscreen mozallowfullscreen></iframe></div></div>"
      ],
      "text/plain": [
       "<folium.folium.Map at 0x10a0dc2b0>"
      ]
     },
     "execution_count": 5,
     "metadata": {},
     "output_type": "execute_result"
    }
   ],
   "source": [
    "m = folium.Map([nodes.lat.mean(), nodes.lon.mean()], zoom_start=10)\n",
    "HeatMap(data).add_to(m)\n",
    "m"
   ]
  },
  {
   "cell_type": "code",
   "execution_count": null,
   "metadata": {},
   "outputs": [],
   "source": []
  }
 ],
 "metadata": {
  "kernelspec": {
   "display_name": "Python 3",
   "language": "python",
   "name": "python3"
  },
  "language_info": {
   "codemirror_mode": {
    "name": "ipython",
    "version": 3
   },
   "file_extension": ".py",
   "mimetype": "text/x-python",
   "name": "python",
   "nbconvert_exporter": "python",
   "pygments_lexer": "ipython3",
   "version": "3.6.4"
  }
 },
 "nbformat": 4,
 "nbformat_minor": 2
}
