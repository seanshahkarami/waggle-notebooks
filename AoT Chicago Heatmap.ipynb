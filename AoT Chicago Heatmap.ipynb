{
 "cells": [
  {
   "cell_type": "code",
   "execution_count": 195,
   "metadata": {},
   "outputs": [],
   "source": [
    "import pandas as pd\n",
    "import folium\n",
    "from folium.plugins import HeatMap"
   ]
  },
  {
   "cell_type": "code",
   "execution_count": 196,
   "metadata": {},
   "outputs": [],
   "source": [
    "nodes = pd.read_csv('https://raw.githubusercontent.com/waggle-sensor/beehive-server/master/publishing-tools/projects/AoT%20Chicago/nodes.csv', index_col='node_id').dropna()"
   ]
  },
  {
   "cell_type": "code",
   "execution_count": 197,
   "metadata": {},
   "outputs": [],
   "source": [
    "df = pd.read_csv('http://www.mcs.anl.gov/research/projects/waggle/downloads/beehive1/plenario.csv',\n",
    "                 sep=';',\n",
    "                 names=['node_id', 'timestamp', 'plugin', 'topic', 'sensor', 'param', 'value'],\n",
    "                 parse_dates=['timestamp'])"
   ]
  },
  {
   "cell_type": "code",
   "execution_count": 198,
   "metadata": {},
   "outputs": [],
   "source": [
    "temperatures = df[df.param == 'temperature']\n",
    "data = temperatures.groupby('node_id').mean().join(nodes)[['lat', 'lon', 'value']].values.tolist()"
   ]
  },
  {
   "cell_type": "code",
   "execution_count": 202,
   "metadata": {},
   "outputs": [
    {
     "data": {
      "text/html": [
       "<div style=\"width:100%;\"><div style=\"position:relative;width:100%;height:0;padding-bottom:60%;\"><iframe src=\"data:text/html;charset=utf-8;base64,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\" style=\"position:absolute;width:100%;height:100%;left:0;top:0;border:none !important;\" allowfullscreen webkitallowfullscreen mozallowfullscreen></iframe></div></div>"
      ],
      "text/plain": [
       "<folium.folium.Map at 0x111c4a518>"
      ]
     },
     "execution_count": 202,
     "metadata": {},
     "output_type": "execute_result"
    }
   ],
   "source": [
    "m = folium.Map([nodes.lat.mean(), nodes.lon.mean()], zoom_start=10)\n",
    "HeatMap(data).add_to(m)\n",
    "m"
   ]
  },
  {
   "cell_type": "code",
   "execution_count": null,
   "metadata": {},
   "outputs": [],
   "source": []
  }
 ],
 "metadata": {
  "kernelspec": {
   "display_name": "Python 3",
   "language": "python",
   "name": "python3"
  },
  "language_info": {
   "codemirror_mode": {
    "name": "ipython",
    "version": 3
   },
   "file_extension": ".py",
   "mimetype": "text/x-python",
   "name": "python",
   "nbconvert_exporter": "python",
   "pygments_lexer": "ipython3",
   "version": "3.6.4"
  }
 },
 "nbformat": 4,
 "nbformat_minor": 2
}
