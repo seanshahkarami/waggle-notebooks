{
 "cells": [
  {
   "cell_type": "code",
   "execution_count": 60,
   "metadata": {},
   "outputs": [],
   "source": [
    "%matplotlib inline\n",
    "import pandas as pd\n",
    "import ipywidgets as widgets"
   ]
  },
  {
   "cell_type": "code",
   "execution_count": 73,
   "metadata": {},
   "outputs": [],
   "source": [
    "df = pd.read_csv('2018-07-10.csv.gz', parse_dates=['timestamp'], index_col='timestamp')\n",
    "df['value_hrf'] = pd.to_numeric(df['value_hrf'], errors='coerce')\n",
    "df.dropna(inplace=True)"
   ]
  },
  {
   "cell_type": "code",
   "execution_count": 106,
   "metadata": {},
   "outputs": [],
   "source": [
    "def render(nodes, series):\n",
    "    for node_id in nodes:\n",
    "        subsystem, sensor, parameter = series.split('.')\n",
    "        values = df[(df['node_id'] == node_id) &\n",
    "                   (df['subsystem'] == subsystem) &\n",
    "                   (df['sensor'] == sensor) &\n",
    "                   (df['parameter'] == parameter)].value_hrf\n",
    "        try:\n",
    "            values.plot(figsize=(16, 8), label=node_id, legend=True)\n",
    "        except TypeError:\n",
    "            print('No {} values for node {}.'.format(series, node_id))"
   ]
  },
  {
   "cell_type": "code",
   "execution_count": 112,
   "metadata": {},
   "outputs": [
    {
     "data": {
      "application/vnd.jupyter.widget-view+json": {
       "model_id": "4309a6b046dd4cc1bbeaabfcbc3e1e08",
       "version_major": 2,
       "version_minor": 0
      },
      "text/plain": [
       "interactive(children=(SelectMultiple(description='Node', options=('001e06107cc5', '001e06107d70', '001e06107fa…"
      ]
     },
     "metadata": {},
     "output_type": "display_data"
    }
   ],
   "source": [
    "nodes_widget = widgets.SelectMultiple(\n",
    "    options=sorted(set(df['node_id'])),\n",
    "    description='Node',\n",
    "    disabled=False,\n",
    "    width=40,\n",
    ")\n",
    "\n",
    "series_widget = widgets.Select(\n",
    "    options=sorted(set(df['subsystem'] + '.' + df['sensor'] + '.' + df['parameter'])),\n",
    "    description='Series',\n",
    "    disabled=False,\n",
    "    width=40,\n",
    ")\n",
    "\n",
    "widgets.interact(render, nodes=nodes_widget, series=series_widget);"
   ]
  },
  {
   "cell_type": "code",
   "execution_count": null,
   "metadata": {},
   "outputs": [],
   "source": []
  }
 ],
 "metadata": {
  "kernelspec": {
   "display_name": "Python 3",
   "language": "python",
   "name": "python3"
  },
  "language_info": {
   "codemirror_mode": {
    "name": "ipython",
    "version": 3
   },
   "file_extension": ".py",
   "mimetype": "text/x-python",
   "name": "python",
   "nbconvert_exporter": "python",
   "pygments_lexer": "ipython3",
   "version": "3.7.0"
  }
 },
 "nbformat": 4,
 "nbformat_minor": 2
}
