{
 "cells": [
  {
   "cell_type": "code",
   "execution_count": 1,
   "metadata": {},
   "outputs": [],
   "source": [
    "import datetime\n",
    "import pandas as pd\n",
    "from utils import SSHClient"
   ]
  },
  {
   "cell_type": "code",
   "execution_count": 2,
   "metadata": {},
   "outputs": [],
   "source": [
    "node_id = '001e0610f05c'\n",
    "client = SSHClient('node50212')"
   ]
  },
  {
   "cell_type": "code",
   "execution_count": 3,
   "metadata": {},
   "outputs": [
    {
     "name": "stdout",
     "output_type": "stream",
     "text": [
      "2018-04-09 13:58:29\n"
     ]
    }
   ],
   "source": [
    "date = datetime.datetime.fromtimestamp(int(client.check_output('date +%s')))\n",
    "print(date)"
   ]
  },
  {
   "cell_type": "markdown",
   "metadata": {},
   "source": [
    "## Device List"
   ]
  },
  {
   "cell_type": "code",
   "execution_count": 50,
   "metadata": {},
   "outputs": [
    {
     "name": "stdout",
     "output_type": "stream",
     "text": [
      "Bus 001 Device 006: ID 1bc7:0021 Telit Wireless Solutions HE910\n",
      "Bus 001 Device 013: ID 2341:003e Arduino SA \n",
      "Bus 001 Device 003: ID 2341:8037 Arduino SA \n",
      "Bus 001 Device 002: ID 05e3:0610 Genesys Logic, Inc. 4-port hub\n",
      "Bus 001 Device 001: ID 1d6b:0002 Linux Foundation 2.0 root hub\n",
      "Bus 002 Device 001: ID 1d6b:0002 Linux Foundation 2.0 root hub\n",
      "\n",
      "Bus 006 Device 002: ID 0bda:8153 Realtek Semiconductor Corp. \n",
      "Bus 006 Device 001: ID 1d6b:0003 Linux Foundation 3.0 root hub\n",
      "Bus 005 Device 001: ID 1d6b:0002 Linux Foundation 2.0 root hub\n",
      "Bus 004 Device 002: ID 05e3:0616 Genesys Logic, Inc. hub\n",
      "Bus 004 Device 001: ID 1d6b:0003 Linux Foundation 3.0 root hub\n",
      "Bus 003 Device 003: ID 0d8c:013c C-Media Electronics, Inc. CM108 Audio Controller\n",
      "Bus 003 Device 002: ID 05e3:0610 Genesys Logic, Inc. 4-port hub\n",
      "Bus 003 Device 001: ID 1d6b:0002 Linux Foundation 2.0 root hub\n",
      "Bus 002 Device 001: ID 1d6b:0001 Linux Foundation 1.1 root hub\n",
      "Bus 001 Device 002: ID 05a3:8830 ARC International \n",
      "Bus 001 Device 001: ID 1d6b:0002 Linux Foundation 2.0 root hub\n",
      "\n"
     ]
    }
   ],
   "source": [
    "nc_lsusb = client.check_output('lsusb').decode()\n",
    "print(nc_lsusb)\n",
    "\n",
    "ep_lsusb = client.check_output('/usr/lib/waggle/nodecontroller/scripts/eplogin lsusb').decode()\n",
    "print(ep_lsusb)"
   ]
  },
  {
   "cell_type": "code",
   "execution_count": 56,
   "metadata": {},
   "outputs": [
    {
     "name": "stdout",
     "output_type": "stream",
     "text": [
      "['waggle_coresense', 'waggle_sysmon']\n",
      "['waggle_cam_top', 'waggle_microphone']\n"
     ]
    }
   ],
   "source": [
    "nc_devices = client.check_output('ls /dev | grep waggle').decode().split()\n",
    "print(nc_devices)\n",
    "\n",
    "ep_devices = client.check_output(\"/usr/lib/waggle/nodecontroller/scripts/eplogin 'ls /dev' | grep waggle\").decode().split()\n",
    "print(ep_devices)"
   ]
  },
  {
   "cell_type": "markdown",
   "metadata": {},
   "source": [
    "## Uptime"
   ]
  },
  {
   "cell_type": "code",
   "execution_count": 42,
   "metadata": {},
   "outputs": [
    {
     "name": "stdout",
     "output_type": "stream",
     "text": [
      " 19:21:32 up 4 days,  1:09,  0 users,  load average: 0.50, 0.39, 0.40\n",
      "\n",
      " 19:21:31 up 4 days,  1:08,  0 users,  load average: 1.69, 1.65, 1.62\n",
      "\n",
      "4 days, 1:09:40\n"
     ]
    }
   ],
   "source": [
    "nc_uptime = client.check_output('uptime').decode()\n",
    "print(nc_uptime)\n",
    "\n",
    "ep_uptime = client.check_output('/usr/lib/waggle/nodecontroller/scripts/eplogin uptime').decode()\n",
    "print(ep_uptime)\n",
    "\n",
    "wm_uptime = datetime.timedelta(seconds=int(client.check_output('wagman-client up').decode()))\n",
    "print(wm_uptime)"
   ]
  },
  {
   "cell_type": "markdown",
   "metadata": {},
   "source": [
    "## Service Status"
   ]
  },
  {
   "cell_type": "code",
   "execution_count": 45,
   "metadata": {
    "scrolled": false
   },
   "outputs": [
    {
     "name": "stdout",
     "output_type": "stream",
     "text": [
      "● rabbitmq-server.service - RabbitMQ broker\n",
      "   Loaded: loaded (/etc/systemd/system/rabbitmq-server.service; enabled; vendor preset: enabled)\n",
      "   Active: active (running) since Mon 2018-04-09 15:35:52 UTC; 3h 48min ago\n",
      " Main PID: 13218 (beam.smp)\n",
      "   Status: \"Initialized\"\n",
      "   CGroup: /system.slice/rabbitmq-server.service\n",
      "           ├─13218 /usr/lib/erlang/erts-7.3/bin/beam.smp -W w -A 64 -P 1048576 -t 5000000 -stbt db -zdbbl 128000 -K true -- -root /usr/lib/erlang -progname erl -- -home /var/lib/rabbitmq -- -pa /usr/lib/rabbitmq/lib/rabbitmq_server-3.6.12/ebin -noshell -noinput -s rabbit boot -sname rabbit@001e0610f05cMMC -boot start_sasl -config /etc/rabbitmq/rabbitmq -kernel inet_default_connect_options [{nodelay,true}] -sasl errlog_type error -sasl sasl_error_logger false -rabbit error_logger {file,\"/var/log/rabbitmq/rabbit@001e0610f05cMMC.log\"} -rabbit sasl_error_logger {file,\"/var/log/rabbitmq/rabbit@001e0610f05cMMC-sasl.log\"} -rabbit enabled_plugins_file \"/etc/rabbitmq/enabled_plugins\" -rabbit plugins_dir \"/usr/lib/rabbitmq/plugins:/usr/lib/rabbitmq/lib/rabbitmq_server-3.6.12/plugins\" -rabbit plugins_expand_dir \"/var/lib/rabbitmq/mnesia/rabbit@001e0610f05cMMC-plugins-expand\" -os_mon start_cpu_sup false -os_mon start_disksup false -os_mon start_memsup false -mnesia dir \"/var/lib/rabbitmq/mnesia/rabbit@001e0610f05cMMC\" -kernel inet_dist_listen_min 25672 -kernel inet_dist_listen_max 25672\n",
      "           ├─13307 /usr/lib/erlang/erts-7.3/bin/epmd -daemon\n",
      "           ├─13595 inet_gethost 4\n",
      "           ├─13596 inet_gethost 4\n",
      "           ├─13601 inet_gethost 4\n",
      "           └─13603 inet_gethost 4\n",
      "\n",
      "Warning: Journal has been rotated since unit was started. Log output is incomplete or unavailable.\n",
      "\n",
      "● waggle-plugin-coresense.service - Coresense 4.1 plugin.\n",
      "   Loaded: loaded (/etc/systemd/system/waggle-plugin-coresense.service; enabled; vendor preset: enabled)\n",
      "   Active: active (running) since Mon 2018-04-09 15:35:33 UTC; 3h 48min ago\n",
      " Main PID: 13206 (python3)\n",
      "   CGroup: /system.slice/waggle-plugin-coresense.service\n",
      "           └─13206 /usr/bin/python3 -u /usr/lib/waggle/plugin_manager/plugins/coresense_4/plugin.py --input-sensor\n",
      "\n",
      "Apr 09 19:20:07 001e0610f05cMMC python3[13206]: Received frame\n",
      "Apr 09 19:20:33 001e0610f05cMMC python3[13206]: Received frame\n",
      "Apr 09 19:20:58 001e0610f05cMMC python3[13206]: Received frame\n",
      "Apr 09 19:21:23 001e0610f05cMMC python3[13206]: Received frame\n",
      "Apr 09 19:21:48 001e0610f05cMMC python3[13206]: Received frame\n",
      "Apr 09 19:22:13 001e0610f05cMMC python3[13206]: Received frame\n",
      "Apr 09 19:22:38 001e0610f05cMMC python3[13206]: Received frame\n",
      "Apr 09 19:23:03 001e0610f05cMMC python3[13206]: Received frame\n",
      "Apr 09 19:23:28 001e0610f05cMMC python3[13206]: Received frame\n",
      "Apr 09 19:23:53 001e0610f05cMMC python3[13206]: Received frame\n",
      "\n",
      "● waggle-wagman-driver.service - Wagman Driver\n",
      "   Loaded: loaded (/etc/systemd/system/waggle-wagman-driver.service; enabled; vendor preset: enabled)\n",
      "   Active: active (running) since Thu 2018-04-05 18:12:22 UTC; 4 days ago\n",
      " Main PID: 2428 (python3)\n",
      "   CGroup: /system.slice/waggle-wagman-driver.service\n",
      "           └─2428 /usr/bin/python3 -u /usr/lib/waggle/nodecontroller/wagman/wagman-driver.py\n",
      "\n",
      "Apr 09 19:23:32 001e0610f05cMMC python3[2428]: INFO:wagman:gn heartbeat\n",
      "Apr 09 19:23:32 001e0610f05cMMC python3[2428]: INFO:wagman:id A30B003E83F5\n",
      "Apr 09 19:23:32 001e0610f05cMMC python3[2428]: INFO:wagman:date 2018 4 9 19 23 31\n",
      "Apr 09 19:23:32 001e0610f05cMMC python3[2428]: INFO:wagman:cu 192 224 320 144 112 112\n",
      "Apr 09 19:23:32 001e0610f05cMMC python3[2428]: INFO:wagman:th 597 616 540 532 610\n",
      "Apr 09 19:23:32 001e0610f05cMMC python3[2428]: INFO:wagman:env 18.89 39.79\n",
      "Apr 09 19:23:32 001e0610f05cMMC python3[2428]: INFO:wagman:fails 7 1 1 0 0\n",
      "Apr 09 19:23:32 001e0610f05cMMC python3[2428]: INFO:wagman:enabled 1 1 1 0 0\n",
      "Apr 09 19:23:32 001e0610f05cMMC python3[2428]: INFO:wagman:media emmc sd\n",
      "Apr 09 19:23:32 001e0610f05cMMC python3[2428]: INFO:wagman:cs heartbeat\n",
      "Apr 09 19:23:38 001e0610f05cMMC python3[2428]: INFO:wagman:nc heartbeat\n",
      "Apr 09 19:23:39 001e0610f05cMMC python3[2428]: INFO:wagman:gn heartbeat\n",
      "Apr 09 19:23:41 001e0610f05cMMC python3[2428]: INFO:wagman:cs heartbeat\n",
      "Apr 09 19:23:47 001e0610f05cMMC python3[2428]: INFO:wagman:nc heartbeat\n",
      "Apr 09 19:23:47 001e0610f05cMMC python3[2428]: INFO:wagman:gn heartbeat\n",
      "Apr 09 19:23:48 001e0610f05cMMC python3[2428]: INFO:wagman:cs heartbeat\n",
      "Apr 09 19:23:56 001e0610f05cMMC python3[2428]: INFO:wagman:nc heartbeat\n",
      "Apr 09 19:23:56 001e0610f05cMMC python3[2428]: INFO:wagman:gn heartbeat\n",
      "Apr 09 19:23:56 001e0610f05cMMC python3[2428]: INFO:wagman:cs heartbeat\n",
      "Apr 09 19:24:03 001e0610f05cMMC python3[2428]: INFO:wagman:gn heartbeat\n",
      "Apr 09 19:24:03 001e0610f05cMMC python3[2428]: INFO:wagman:nc heartbeat\n",
      "Apr 09 19:24:04 001e0610f05cMMC python3[2428]: INFO:wagman:cs heartbeat\n",
      "Apr 09 19:24:12 001e0610f05cMMC python3[2428]: INFO:wagman:gn heartbeat\n",
      "Apr 09 19:24:12 001e0610f05cMMC python3[2428]: INFO:wagman:nc heartbeat\n",
      "Apr 09 19:24:12 001e0610f05cMMC python3[2428]: INFO:wagman:cs heartbeat\n",
      "\n"
     ]
    }
   ],
   "source": [
    "print(client.check_output('systemctl status rabbitmq-server').decode())\n",
    "print(client.check_output('systemctl status waggle-plugin-coresense').decode())\n",
    "print(client.check_output('systemctl status waggle-wagman-driver -n25').decode())"
   ]
  },
  {
   "cell_type": "markdown",
   "metadata": {},
   "source": [
    "## Fail Counts"
   ]
  },
  {
   "cell_type": "code",
   "execution_count": 25,
   "metadata": {},
   "outputs": [
    {
     "name": "stdout",
     "output_type": "stream",
     "text": [
      "[7, 1, 1, 0, 0]\n"
     ]
    }
   ],
   "source": [
    "fails = list(map(int, client.check_output('wagman-client fc').decode().split()))\n",
    "print(fails)"
   ]
  },
  {
   "cell_type": "markdown",
   "metadata": {},
   "source": [
    "## Current Usage"
   ]
  },
  {
   "cell_type": "code",
   "execution_count": 9,
   "metadata": {},
   "outputs": [
    {
     "name": "stdout",
     "output_type": "stream",
     "text": [
      "[192, 208, 304, 144, 112, 128]\n"
     ]
    }
   ],
   "source": [
    "cu = list(map(int, client.check_output('wagman-client cu').decode().split()))\n",
    "print(cu)"
   ]
  },
  {
   "cell_type": "markdown",
   "metadata": {},
   "source": [
    "## Heartbeats"
   ]
  },
  {
   "cell_type": "code",
   "execution_count": 10,
   "metadata": {},
   "outputs": [
    {
     "name": "stdout",
     "output_type": "stream",
     "text": [
      "[2261, 4538, 3195, 348402346, 348402347]\n"
     ]
    }
   ],
   "source": [
    "hb = list(map(int, client.check_output('wagman-client hb').decode().split()))\n",
    "print(hb)"
   ]
  },
  {
   "cell_type": "markdown",
   "metadata": {},
   "source": [
    "## Repo Versions"
   ]
  },
  {
   "cell_type": "code",
   "execution_count": 11,
   "metadata": {
    "scrolled": false
   },
   "outputs": [
    {
     "name": "stdout",
     "output_type": "stream",
     "text": [
      "commit 0a93cc2ce33b2a66f0931f49cf00bf44d87046c6\n",
      "Author: Yongho Kim <ironyonghokim@gmail.com>\n",
      "Date:   Thu Dec 14 11:22:20 2017 -0600\n",
      "\n",
      "    Removed 'v' for PyWaggle version\n",
      "\n",
      "commit c438207e58dbb31ac2d684f324ec57ff9f9f65dd\n",
      "Author: Yongho Kim <ironyonghokim@gmail.com>\n",
      "Date:   Thu Dec 7 15:21:51 2017 -0600\n",
      "\n",
      "    Changed path of pidfile\n",
      "\n",
      "commit 3aa8f95773cf1799a650608c1f3a0b7183c408fd\n",
      "Author: Yongho Kim <ironyonghokim@gmail.com>\n",
      "Date:   Thu Mar 15 10:40:19 2018 -0500\n",
      "\n",
      "    Sending and printing MAC and firware version at the beginning\n",
      "\n"
     ]
    }
   ],
   "source": [
    "print(client.check_output('cd /usr/lib/waggle/core; git log -n1 --tags').decode())\n",
    "print(client.check_output('cd /usr/lib/waggle/nodecontroller; git log -n1 --tags').decode())\n",
    "print(client.check_output('cd /usr/lib/waggle/plugin_manager; git log -n1 --tags').decode())"
   ]
  },
  {
   "cell_type": "markdown",
   "metadata": {},
   "source": [
    "## Rcent Data Count"
   ]
  },
  {
   "cell_type": "code",
   "execution_count": 38,
   "metadata": {},
   "outputs": [
    {
     "data": {
      "text/plain": [
       "<matplotlib.axes._subplots.AxesSubplot at 0x116361828>"
      ]
     },
     "execution_count": 38,
     "metadata": {},
     "output_type": "execute_result"
    },
    {
     "data": {
      "image/png": "[encoded data removed]",
      "text/plain": [
       "<Figure size 1152x576 with 1 Axes>"
      ]
     },
     "metadata": {},
     "output_type": "display_data"
    }
   ],
   "source": [
    "def read_data_csv(node_id, date):\n",
    "    url = 'http://www.mcs.anl.gov/research/projects/waggle/downloads/datasets/2/{}/{}.csv.gz'.format(node_id, date)\n",
    "    column_names = ['node_id', 'timestamp', 'plugin', 'topic', 'sensor', 'param', 'value']\n",
    "    return pd.read_csv(url, sep=';', names=column_names, parse_dates=['timestamp'])\n",
    "\n",
    "\n",
    "def read_data_csvs(node_id, dates):\n",
    "    dfs = []\n",
    "    \n",
    "    for date in dates:\n",
    "        try:\n",
    "            dfs.append(read_data_csv(node_id, date))\n",
    "        except Exception:\n",
    "            continue\n",
    "    \n",
    "    return pd.concat(dfs)\n",
    "\n",
    "\n",
    "tomorrow = datetime.date.today() + datetime.timedelta(days=1)\n",
    "dates = pd.date_range(end=tomorrow, periods=3).date\n",
    "\n",
    "df = read_data_csvs(node_id, dates)\n",
    "\n",
    "df['alphasense'] = df['sensor'].str.startswith('Alphasense')\n",
    "df['chemsense'] = df['sensor'].str.startswith('Chemsense')\n",
    "df['sysmon'] = df['plugin'] == 'sysmon:1'\n",
    "df['metsense'] = -df['chemsense'] & -df['alphasense'] & -df['sysmon']\n",
    "\n",
    "counts = df[['timestamp', 'metsense', 'chemsense', 'alphasense', 'sysmon']].groupby('timestamp').sum().resample('5min').sum()\n",
    "counts.plot.area(figsize=(16, 8), xlim=(dates.min(), dates.max()))"
   ]
  },
  {
   "cell_type": "code",
   "execution_count": null,
   "metadata": {},
   "outputs": [],
   "source": []
  }
 ],
 "metadata": {
  "kernelspec": {
   "display_name": "Python 3",
   "language": "python",
   "name": "python3"
  },
  "language_info": {
   "codemirror_mode": {
    "name": "ipython",
    "version": 3
   },
   "file_extension": ".py",
   "mimetype": "text/x-python",
   "name": "python",
   "nbconvert_exporter": "python",
   "pygments_lexer": "ipython3",
   "version": "3.6.4"
  }
 },
 "nbformat": 4,
 "nbformat_minor": 2
}
